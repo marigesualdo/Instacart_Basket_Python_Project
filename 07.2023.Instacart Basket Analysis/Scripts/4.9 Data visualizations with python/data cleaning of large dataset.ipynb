{
 "cells": [
  {
   "cell_type": "code",
   "execution_count": 1,
   "id": "dadc425d",
   "metadata": {},
   "outputs": [],
   "source": [
    "import pandas as pd\n",
    "import numpy as np\n",
    "import os"
   ]
  },
  {
   "cell_type": "code",
   "execution_count": 2,
   "id": "7bdf98ba",
   "metadata": {},
   "outputs": [],
   "source": [
    "path = r'C:\\Users\\marig\\OneDrive\\Área de Trabalho\\curso arbeitsamt\\data immersion\\achievement 4\\07.2023.Instacart Basket Analysis\\Data'"
   ]
  },
  {
   "cell_type": "code",
   "execution_count": 3,
   "id": "e0af386f",
   "metadata": {},
   "outputs": [],
   "source": [
    "cleaned_df = pd.read_pickle (os.path.join (path, 'Prepared data', 'orders_products_last_version.pkl'))"
   ]
  },
  {
   "cell_type": "code",
   "execution_count": 5,
   "id": "7ba0e4eb",
   "metadata": {},
   "outputs": [],
   "source": [
    "cleaned_df = cleaned_df.drop (columns = ['add_to_cart_order'])"
   ]
  },
  {
   "cell_type": "code",
   "execution_count": null,
   "id": "1530328b",
   "metadata": {},
   "outputs": [],
   "source": [
    "cleaned_df = cleaned_df.drop (columns = ['aisle_id'])"
   ]
  },
  {
   "cell_type": "code",
   "execution_count": 6,
   "id": "a160f83f",
   "metadata": {},
   "outputs": [],
   "source": [
    "cleaned_df = cleaned_df.drop (columns = ['reordered'])"
   ]
  },
  {
   "cell_type": "code",
   "execution_count": 7,
   "id": "9df40a8c",
   "metadata": {},
   "outputs": [],
   "source": [
    "cleaned_df = cleaned_df.drop (columns = ['_merge'])"
   ]
  },
  {
   "cell_type": "code",
   "execution_count": 8,
   "id": "5d7b94e1",
   "metadata": {},
   "outputs": [
    {
     "name": "stdout",
     "output_type": "stream",
     "text": [
      "product_id                        int64\n",
      "product_name                     object\n",
      "department_id                     int64\n",
      "prices                          float64\n",
      "order_id                          int64\n",
      "user_id                           int64\n",
      "order_number                      int64\n",
      "orders_day_of_week                int64\n",
      "order_hour_of_day                 int64\n",
      "days_since_prior_order          float64\n",
      "price_range_loc                  object\n",
      "busiest days                     object\n",
      "busiest_period_of_day            object\n",
      "max_order                         int64\n",
      "loyalty_flag                     object\n",
      "prices_mean_user                float64\n",
      "price_flag                       object\n",
      "user_median_days_since_order    float64\n",
      "mediandays_flag                  object\n",
      "dtype: object\n"
     ]
    }
   ],
   "source": [
    "print (cleaned_df.dtypes)"
   ]
  },
  {
   "cell_type": "code",
   "execution_count": 9,
   "id": "0a675a21",
   "metadata": {},
   "outputs": [
    {
     "data": {
      "text/plain": [
       "(30328763, 19)"
      ]
     },
     "execution_count": 9,
     "metadata": {},
     "output_type": "execute_result"
    }
   ],
   "source": [
    "cleaned_df.shape\n"
   ]
  },
  {
   "cell_type": "code",
   "execution_count": 10,
   "id": "c61b0336",
   "metadata": {},
   "outputs": [],
   "source": [
    "#exporting\n",
    "cleaned_df.to_pickle(os.path.join(path, 'Prepared data' 'orders_products_last_version.pkl'))"
   ]
  },
  {
   "cell_type": "code",
   "execution_count": null,
   "id": "334858a6",
   "metadata": {},
   "outputs": [],
   "source": []
  }
 ],
 "metadata": {
  "kernelspec": {
   "display_name": "Python 3 (ipykernel)",
   "language": "python",
   "name": "python3"
  },
  "language_info": {
   "codemirror_mode": {
    "name": "ipython",
    "version": 3
   },
   "file_extension": ".py",
   "mimetype": "text/x-python",
   "name": "python",
   "nbconvert_exporter": "python",
   "pygments_lexer": "ipython3",
   "version": "3.11.3"
  }
 },
 "nbformat": 4,
 "nbformat_minor": 5
}
