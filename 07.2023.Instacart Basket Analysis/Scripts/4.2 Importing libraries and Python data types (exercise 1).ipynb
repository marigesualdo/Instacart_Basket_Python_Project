{
 "cells": [
  {
   "cell_type": "markdown",
   "id": "9f2c98b1",
   "metadata": {},
   "source": [
    "# 1. Importing Libraries"
   ]
  },
  {
   "cell_type": "code",
   "execution_count": 1,
   "id": "71db94c0",
   "metadata": {},
   "outputs": [],
   "source": [
    "# Import Libraries\n",
    "import pandas as pd\n",
    "import numpy as np\n",
    "import os"
   ]
  },
  {
   "cell_type": "markdown",
   "id": "4340e210",
   "metadata": {},
   "source": [
    "# 2. Working with Python Data Types"
   ]
  },
  {
   "cell_type": "code",
   "execution_count": 2,
   "id": "db739ac8",
   "metadata": {},
   "outputs": [],
   "source": [
    "# Code 3 different ways of reaching a result of 100 by adding or subtracting numeric variables"
   ]
  },
  {
   "cell_type": "code",
   "execution_count": 3,
   "id": "57e5c773",
   "metadata": {},
   "outputs": [],
   "source": [
    "x = 90"
   ]
  },
  {
   "cell_type": "code",
   "execution_count": 4,
   "id": "704d9559",
   "metadata": {},
   "outputs": [],
   "source": [
    "y = 10"
   ]
  },
  {
   "cell_type": "code",
   "execution_count": 5,
   "id": "d21c3af9",
   "metadata": {},
   "outputs": [
    {
     "data": {
      "text/plain": [
       "100"
      ]
     },
     "execution_count": 5,
     "metadata": {},
     "output_type": "execute_result"
    }
   ],
   "source": [
    "x + y "
   ]
  },
  {
   "cell_type": "code",
   "execution_count": 6,
   "id": "4b6d9235",
   "metadata": {},
   "outputs": [],
   "source": [
    "z = 50"
   ]
  },
  {
   "cell_type": "code",
   "execution_count": 7,
   "id": "dd153b55",
   "metadata": {},
   "outputs": [
    {
     "data": {
      "text/plain": [
       "100"
      ]
     },
     "execution_count": 7,
     "metadata": {},
     "output_type": "execute_result"
    }
   ],
   "source": [
    "(x + y - z) + z"
   ]
  },
  {
   "cell_type": "code",
   "execution_count": 9,
   "id": "1a0bd5a1",
   "metadata": {},
   "outputs": [],
   "source": [
    "a = 20"
   ]
  },
  {
   "cell_type": "code",
   "execution_count": 10,
   "id": "3a45729b",
   "metadata": {},
   "outputs": [
    {
     "data": {
      "text/plain": [
       "100"
      ]
     },
     "execution_count": 10,
     "metadata": {},
     "output_type": "execute_result"
    }
   ],
   "source": [
    "(x + a) - y"
   ]
  },
  {
   "cell_type": "code",
   "execution_count": null,
   "id": "50eecdde",
   "metadata": {},
   "outputs": [],
   "source": [
    "#Code 2 floating-point variables and divide them by each other"
   ]
  },
  {
   "cell_type": "code",
   "execution_count": 11,
   "id": "85b57084",
   "metadata": {},
   "outputs": [],
   "source": [
    "b = 5.78"
   ]
  },
  {
   "cell_type": "code",
   "execution_count": 12,
   "id": "49f7d544",
   "metadata": {},
   "outputs": [],
   "source": [
    "c = 6.99"
   ]
  },
  {
   "cell_type": "code",
   "execution_count": 13,
   "id": "981e3ff6",
   "metadata": {},
   "outputs": [
    {
     "data": {
      "text/plain": [
       "1.2093425605536332"
      ]
     },
     "execution_count": 13,
     "metadata": {},
     "output_type": "execute_result"
    }
   ],
   "source": [
    "c/b"
   ]
  },
  {
   "cell_type": "code",
   "execution_count": null,
   "id": "5333d555",
   "metadata": {},
   "outputs": [],
   "source": [
    "#Construct a short word made of separate strings "
   ]
  },
  {
   "cell_type": "code",
   "execution_count": 16,
   "id": "966b101f",
   "metadata": {},
   "outputs": [],
   "source": [
    "d = 'GER'"
   ]
  },
  {
   "cell_type": "code",
   "execution_count": 17,
   "id": "468da18c",
   "metadata": {},
   "outputs": [],
   "source": [
    "e = 'MANY'"
   ]
  },
  {
   "cell_type": "code",
   "execution_count": 18,
   "id": "d18cb39a",
   "metadata": {},
   "outputs": [
    {
     "data": {
      "text/plain": [
       "'GERMANY'"
      ]
     },
     "execution_count": 18,
     "metadata": {},
     "output_type": "execute_result"
    }
   ],
   "source": [
    "d + e"
   ]
  },
  {
   "cell_type": "code",
   "execution_count": 24,
   "id": "a8ff5f3b",
   "metadata": {},
   "outputs": [],
   "source": [
    "f = 'Olá '"
   ]
  },
  {
   "cell_type": "code",
   "execution_count": 25,
   "id": "b05731eb",
   "metadata": {},
   "outputs": [],
   "source": [
    "g = 'Brasil'"
   ]
  },
  {
   "cell_type": "code",
   "execution_count": 26,
   "id": "5a5fc3f8",
   "metadata": {},
   "outputs": [
    {
     "data": {
      "text/plain": [
       "'Olá Brasil'"
      ]
     },
     "execution_count": 26,
     "metadata": {},
     "output_type": "execute_result"
    }
   ],
   "source": [
    "f + g"
   ]
  },
  {
   "cell_type": "code",
   "execution_count": 27,
   "id": "ee315869",
   "metadata": {},
   "outputs": [],
   "source": [
    "h = 'Bom '"
   ]
  },
  {
   "cell_type": "code",
   "execution_count": 28,
   "id": "09815b6e",
   "metadata": {},
   "outputs": [],
   "source": [
    "i = 'Dia'"
   ]
  },
  {
   "cell_type": "code",
   "execution_count": 29,
   "id": "109969d2",
   "metadata": {},
   "outputs": [
    {
     "data": {
      "text/plain": [
       "'Bom Dia'"
      ]
     },
     "execution_count": 29,
     "metadata": {},
     "output_type": "execute_result"
    }
   ],
   "source": [
    "h + i"
   ]
  },
  {
   "cell_type": "code",
   "execution_count": null,
   "id": "ed20101e",
   "metadata": {},
   "outputs": [],
   "source": [
    "#Bonus Task, include a command that makes a string appear 100 times"
   ]
  },
  {
   "cell_type": "code",
   "execution_count": 30,
   "id": "38eb6013",
   "metadata": {},
   "outputs": [],
   "source": [
    "j = 'Nino'"
   ]
  },
  {
   "cell_type": "code",
   "execution_count": 31,
   "id": "3dfec9ce",
   "metadata": {},
   "outputs": [
    {
     "data": {
      "text/plain": [
       "'NinoNinoNinoNinoNinoNinoNinoNinoNinoNinoNinoNinoNinoNinoNinoNinoNinoNinoNinoNinoNinoNinoNinoNinoNinoNinoNinoNinoNinoNinoNinoNinoNinoNinoNinoNinoNinoNinoNinoNinoNinoNinoNinoNinoNinoNinoNinoNinoNinoNinoNinoNinoNinoNinoNinoNinoNinoNinoNinoNinoNinoNinoNinoNinoNinoNinoNinoNinoNinoNinoNinoNinoNinoNinoNinoNinoNinoNinoNinoNinoNinoNinoNinoNinoNinoNinoNinoNinoNinoNinoNinoNinoNinoNinoNinoNinoNinoNinoNinoNino'"
      ]
     },
     "execution_count": 31,
     "metadata": {},
     "output_type": "execute_result"
    }
   ],
   "source": [
    "j * 100"
   ]
  },
  {
   "cell_type": "code",
   "execution_count": null,
   "id": "2afd9840",
   "metadata": {},
   "outputs": [],
   "source": []
  }
 ],
 "metadata": {
  "kernelspec": {
   "display_name": "Python 3 (ipykernel)",
   "language": "python",
   "name": "python3"
  },
  "language_info": {
   "codemirror_mode": {
    "name": "ipython",
    "version": 3
   },
   "file_extension": ".py",
   "mimetype": "text/x-python",
   "name": "python",
   "nbconvert_exporter": "python",
   "pygments_lexer": "ipython3",
   "version": "3.11.3"
  }
 },
 "nbformat": 4,
 "nbformat_minor": 5
}
