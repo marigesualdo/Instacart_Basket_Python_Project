{
 "cells": [
  {
   "cell_type": "code",
   "execution_count": 1,
   "id": "fa9b57f1",
   "metadata": {},
   "outputs": [],
   "source": [
    "# Importing Libraries\n",
    "import pandas as pd\n",
    "import numpy as np\n",
    "import os\n",
    "import matplotlib.pyplot as plt\n",
    "import seaborn as sns\n",
    "import scipy"
   ]
  },
  {
   "cell_type": "code",
   "execution_count": 2,
   "id": "1586e3f5",
   "metadata": {},
   "outputs": [],
   "source": [
    "path = r'C:\\Users\\marig\\OneDrive\\Área de Trabalho\\curso arbeitsamt\\data immersion\\achievement 4\\07.2023.Instacart Basket Analysis\\Data'"
   ]
  },
  {
   "cell_type": "code",
   "execution_count": 3,
   "id": "2a7b828e",
   "metadata": {},
   "outputs": [],
   "source": [
    "# Loading orders products customer dataframe\n",
    "ords_prods_cust = pd.read_pickle (os.path.join (path, 'Prepared data', 'orders_products_customer_lastversion.pkl'))"
   ]
  },
  {
   "cell_type": "code",
   "execution_count": 21,
   "id": "3d646bc3",
   "metadata": {},
   "outputs": [
    {
     "data": {
      "text/html": [
       "<div>\n",
       "<style scoped>\n",
       "    .dataframe tbody tr th:only-of-type {\n",
       "        vertical-align: middle;\n",
       "    }\n",
       "\n",
       "    .dataframe tbody tr th {\n",
       "        vertical-align: top;\n",
       "    }\n",
       "\n",
       "    .dataframe thead th {\n",
       "        text-align: right;\n",
       "    }\n",
       "</style>\n",
       "<table border=\"1\" class=\"dataframe\">\n",
       "  <thead>\n",
       "    <tr style=\"text-align: right;\">\n",
       "      <th></th>\n",
       "      <th>user_id</th>\n",
       "      <th>State</th>\n",
       "      <th>Age</th>\n",
       "      <th>date_joined</th>\n",
       "      <th>n_dependants</th>\n",
       "      <th>fam_status</th>\n",
       "      <th>income</th>\n",
       "      <th>product_id</th>\n",
       "      <th>product_name</th>\n",
       "      <th>department_id</th>\n",
       "      <th>...</th>\n",
       "      <th>price_range_loc</th>\n",
       "      <th>busiest days</th>\n",
       "      <th>busiest_period_of_day</th>\n",
       "      <th>max_order</th>\n",
       "      <th>loyalty_flag</th>\n",
       "      <th>prices_mean_user</th>\n",
       "      <th>price_flag</th>\n",
       "      <th>user_median_days_since_order</th>\n",
       "      <th>mediandays_flag</th>\n",
       "      <th>Region</th>\n",
       "    </tr>\n",
       "  </thead>\n",
       "  <tbody>\n",
       "    <tr>\n",
       "      <th>0</th>\n",
       "      <td>26711</td>\n",
       "      <td>Missouri</td>\n",
       "      <td>48</td>\n",
       "      <td>1/1/2017</td>\n",
       "      <td>3</td>\n",
       "      <td>married</td>\n",
       "      <td>165665</td>\n",
       "      <td>196</td>\n",
       "      <td>Soda</td>\n",
       "      <td>7</td>\n",
       "      <td>...</td>\n",
       "      <td>Mid range product</td>\n",
       "      <td>Busiest days</td>\n",
       "      <td>Average orders</td>\n",
       "      <td>8</td>\n",
       "      <td>New customer</td>\n",
       "      <td>8.205882</td>\n",
       "      <td>Low Spender</td>\n",
       "      <td>19.0</td>\n",
       "      <td>Frequent customer</td>\n",
       "      <td>Midwest</td>\n",
       "    </tr>\n",
       "    <tr>\n",
       "      <th>1</th>\n",
       "      <td>26711</td>\n",
       "      <td>Missouri</td>\n",
       "      <td>48</td>\n",
       "      <td>1/1/2017</td>\n",
       "      <td>3</td>\n",
       "      <td>married</td>\n",
       "      <td>165665</td>\n",
       "      <td>196</td>\n",
       "      <td>Soda</td>\n",
       "      <td>7</td>\n",
       "      <td>...</td>\n",
       "      <td>Mid range product</td>\n",
       "      <td>Regularly busy</td>\n",
       "      <td>Most orders</td>\n",
       "      <td>8</td>\n",
       "      <td>New customer</td>\n",
       "      <td>8.205882</td>\n",
       "      <td>Low Spender</td>\n",
       "      <td>19.0</td>\n",
       "      <td>Frequent customer</td>\n",
       "      <td>Midwest</td>\n",
       "    </tr>\n",
       "    <tr>\n",
       "      <th>2</th>\n",
       "      <td>26711</td>\n",
       "      <td>Missouri</td>\n",
       "      <td>48</td>\n",
       "      <td>1/1/2017</td>\n",
       "      <td>3</td>\n",
       "      <td>married</td>\n",
       "      <td>165665</td>\n",
       "      <td>196</td>\n",
       "      <td>Soda</td>\n",
       "      <td>7</td>\n",
       "      <td>...</td>\n",
       "      <td>Mid range product</td>\n",
       "      <td>Busiest days</td>\n",
       "      <td>Most orders</td>\n",
       "      <td>8</td>\n",
       "      <td>New customer</td>\n",
       "      <td>8.205882</td>\n",
       "      <td>Low Spender</td>\n",
       "      <td>19.0</td>\n",
       "      <td>Frequent customer</td>\n",
       "      <td>Midwest</td>\n",
       "    </tr>\n",
       "    <tr>\n",
       "      <th>3</th>\n",
       "      <td>26711</td>\n",
       "      <td>Missouri</td>\n",
       "      <td>48</td>\n",
       "      <td>1/1/2017</td>\n",
       "      <td>3</td>\n",
       "      <td>married</td>\n",
       "      <td>165665</td>\n",
       "      <td>6184</td>\n",
       "      <td>Clementines</td>\n",
       "      <td>4</td>\n",
       "      <td>...</td>\n",
       "      <td>Low range product</td>\n",
       "      <td>Slowest days</td>\n",
       "      <td>Most orders</td>\n",
       "      <td>8</td>\n",
       "      <td>New customer</td>\n",
       "      <td>8.205882</td>\n",
       "      <td>Low Spender</td>\n",
       "      <td>19.0</td>\n",
       "      <td>Frequent customer</td>\n",
       "      <td>Midwest</td>\n",
       "    </tr>\n",
       "    <tr>\n",
       "      <th>4</th>\n",
       "      <td>26711</td>\n",
       "      <td>Missouri</td>\n",
       "      <td>48</td>\n",
       "      <td>1/1/2017</td>\n",
       "      <td>3</td>\n",
       "      <td>married</td>\n",
       "      <td>165665</td>\n",
       "      <td>6184</td>\n",
       "      <td>Clementines</td>\n",
       "      <td>4</td>\n",
       "      <td>...</td>\n",
       "      <td>Low range product</td>\n",
       "      <td>Busiest days</td>\n",
       "      <td>Average orders</td>\n",
       "      <td>8</td>\n",
       "      <td>New customer</td>\n",
       "      <td>8.205882</td>\n",
       "      <td>Low Spender</td>\n",
       "      <td>19.0</td>\n",
       "      <td>Frequent customer</td>\n",
       "      <td>Midwest</td>\n",
       "    </tr>\n",
       "  </tbody>\n",
       "</table>\n",
       "<p>5 rows × 26 columns</p>\n",
       "</div>"
      ],
      "text/plain": [
       "   user_id     State  Age date_joined  n_dependants fam_status  income  \\\n",
       "0    26711  Missouri   48    1/1/2017             3    married  165665   \n",
       "1    26711  Missouri   48    1/1/2017             3    married  165665   \n",
       "2    26711  Missouri   48    1/1/2017             3    married  165665   \n",
       "3    26711  Missouri   48    1/1/2017             3    married  165665   \n",
       "4    26711  Missouri   48    1/1/2017             3    married  165665   \n",
       "\n",
       "   product_id product_name  department_id  ...    price_range_loc  \\\n",
       "0         196         Soda              7  ...  Mid range product   \n",
       "1         196         Soda              7  ...  Mid range product   \n",
       "2         196         Soda              7  ...  Mid range product   \n",
       "3        6184  Clementines              4  ...  Low range product   \n",
       "4        6184  Clementines              4  ...  Low range product   \n",
       "\n",
       "     busiest days  busiest_period_of_day  max_order  loyalty_flag  \\\n",
       "0    Busiest days         Average orders          8  New customer   \n",
       "1  Regularly busy            Most orders          8  New customer   \n",
       "2    Busiest days            Most orders          8  New customer   \n",
       "3    Slowest days            Most orders          8  New customer   \n",
       "4    Busiest days         Average orders          8  New customer   \n",
       "\n",
       "   prices_mean_user   price_flag user_median_days_since_order  \\\n",
       "0          8.205882  Low Spender                         19.0   \n",
       "1          8.205882  Low Spender                         19.0   \n",
       "2          8.205882  Low Spender                         19.0   \n",
       "3          8.205882  Low Spender                         19.0   \n",
       "4          8.205882  Low Spender                         19.0   \n",
       "\n",
       "     mediandays_flag   Region  \n",
       "0  Frequent customer  Midwest  \n",
       "1  Frequent customer  Midwest  \n",
       "2  Frequent customer  Midwest  \n",
       "3  Frequent customer  Midwest  \n",
       "4  Frequent customer  Midwest  \n",
       "\n",
       "[5 rows x 26 columns]"
      ]
     },
     "execution_count": 21,
     "metadata": {},
     "output_type": "execute_result"
    }
   ],
   "source": [
    "ords_prods_cust.head()"
   ]
  },
  {
   "cell_type": "markdown",
   "id": "911a4a2f",
   "metadata": {},
   "source": [
    "# 1. Creating a regional segmentation of the data"
   ]
  },
  {
   "cell_type": "code",
   "execution_count": 4,
   "id": "44113a4e",
   "metadata": {},
   "outputs": [],
   "source": [
    "#Identifying four region groups by including specified states into each region:\n",
    "\n",
    "Notheast = ['Maine', 'New Hampshire', 'Vermont', 'Massachusetts', 'Rhode Island', 'Connecticut', 'New York', 'Pennsylvania', 'New Jersey']\n",
    "Midwest = ['Wisconsin', 'Michigan', 'Illinois', 'Indiana', 'Ohio', 'North Dakota', 'South Dakota', 'Nebraska', 'Kansas', 'Minnesota', 'Iowa', 'Missouri']\n",
    "South = ['Delaware', 'Maryland', 'District of Columbia', 'Virginia', 'West Virginia', 'North Carolina', 'South Carolina', 'Georgia', 'Florida', 'Kentucky', 'Tennessee', 'Mississippi', 'Alabama', 'Oklahoma', 'Texas', 'Arkansas', 'Louisiana']\n",
    "West = ['Idaho', 'Montana', 'Wyoming', 'Nevada', 'Utah', 'Colorado', 'Arizona', 'New Mexico', 'Alaska', 'Washington', 'Oregon', 'California', 'Hawaii']"
   ]
  },
  {
   "cell_type": "code",
   "execution_count": 5,
   "id": "ca3e6e63",
   "metadata": {},
   "outputs": [],
   "source": [
    "#Create a flag for identifying which region:\n",
    "\n",
    "ords_prods_cust .loc[ords_prods_cust ['State'].isin(Notheast), 'Region'] = 'Northeast'\n",
    "ords_prods_cust .loc[ords_prods_cust ['State'].isin(Midwest), 'Region'] = 'Midwest'\n",
    "ords_prods_cust .loc[ords_prods_cust ['State'].isin(South), 'Region'] = 'South'\n",
    "ords_prods_cust .loc[ords_prods_cust ['State'].isin(West), 'Region'] = 'West'"
   ]
  },
  {
   "cell_type": "code",
   "execution_count": 18,
   "id": "dd444773",
   "metadata": {},
   "outputs": [
    {
     "data": {
      "text/plain": [
       "South        10099817\n",
       "West          7765088\n",
       "Midwest       7107586\n",
       "Northeast     5356272\n",
       "Name: Region, dtype: int64"
      ]
     },
     "execution_count": 18,
     "metadata": {},
     "output_type": "execute_result"
    }
   ],
   "source": [
    "#Review the output\n",
    "ords_prods_cust ['Region'].value_counts(dropna = False)"
   ]
  },
  {
   "cell_type": "markdown",
   "id": "0495e839",
   "metadata": {},
   "source": [
    "## 1.1Determining if there is an spending diference between US Regions"
   ]
  },
  {
   "cell_type": "code",
   "execution_count": 20,
   "id": "4602c178",
   "metadata": {},
   "outputs": [
    {
     "data": {
      "text/plain": [
       "Index(['user_id', 'State', 'Age', 'date_joined', 'n_dependants', 'fam_status',\n",
       "       'income', 'product_id', 'product_name', 'department_id', 'prices',\n",
       "       'order_id', 'order_number', 'orders_day_of_week', 'order_hour_of_day',\n",
       "       'days_since_prior_order', 'price_range_loc', 'busiest days',\n",
       "       'busiest_period_of_day', 'max_order', 'loyalty_flag',\n",
       "       'prices_mean_user', 'price_flag', 'user_median_days_since_order',\n",
       "       'mediandays_flag', 'Region'],\n",
       "      dtype='object')"
      ]
     },
     "execution_count": 20,
     "metadata": {},
     "output_type": "execute_result"
    }
   ],
   "source": [
    "ords_prods_cust.columns"
   ]
  },
  {
   "cell_type": "code",
   "execution_count": 6,
   "id": "d0118708",
   "metadata": {},
   "outputs": [],
   "source": [
    "# Creating a crosstab between 'Region' and 'Price flag' columns\n",
    "crosstab = pd.crosstab(ords_prods_cust['Region'], ords_prods_cust['price_flag'], dropna = False)"
   ]
  },
  {
   "cell_type": "code",
   "execution_count": 7,
   "id": "952b3d24",
   "metadata": {},
   "outputs": [
    {
     "data": {
      "text/html": [
       "<div>\n",
       "<style scoped>\n",
       "    .dataframe tbody tr th:only-of-type {\n",
       "        vertical-align: middle;\n",
       "    }\n",
       "\n",
       "    .dataframe tbody tr th {\n",
       "        vertical-align: top;\n",
       "    }\n",
       "\n",
       "    .dataframe thead th {\n",
       "        text-align: right;\n",
       "    }\n",
       "</style>\n",
       "<table border=\"1\" class=\"dataframe\">\n",
       "  <thead>\n",
       "    <tr style=\"text-align: right;\">\n",
       "      <th>price_flag</th>\n",
       "      <th>High Spender</th>\n",
       "      <th>Low Spender</th>\n",
       "    </tr>\n",
       "    <tr>\n",
       "      <th>Region</th>\n",
       "      <th></th>\n",
       "      <th></th>\n",
       "    </tr>\n",
       "  </thead>\n",
       "  <tbody>\n",
       "    <tr>\n",
       "      <th>Midwest</th>\n",
       "      <td>148321</td>\n",
       "      <td>6959265</td>\n",
       "    </tr>\n",
       "    <tr>\n",
       "      <th>Northeast</th>\n",
       "      <td>102905</td>\n",
       "      <td>5253367</td>\n",
       "    </tr>\n",
       "    <tr>\n",
       "      <th>South</th>\n",
       "      <td>197110</td>\n",
       "      <td>9902707</td>\n",
       "    </tr>\n",
       "    <tr>\n",
       "      <th>West</th>\n",
       "      <td>149922</td>\n",
       "      <td>7615166</td>\n",
       "    </tr>\n",
       "  </tbody>\n",
       "</table>\n",
       "</div>"
      ],
      "text/plain": [
       "price_flag  High Spender  Low Spender\n",
       "Region                               \n",
       "Midwest           148321      6959265\n",
       "Northeast         102905      5253367\n",
       "South             197110      9902707\n",
       "West              149922      7615166"
      ]
     },
     "execution_count": 7,
     "metadata": {},
     "output_type": "execute_result"
    }
   ],
   "source": [
    "# Result\n",
    "crosstab"
   ]
  },
  {
   "cell_type": "markdown",
   "id": "926762ff",
   "metadata": {},
   "source": [
    "# 2. Creating an exclusion flag for low-activity customers (>5 orders)"
   ]
  },
  {
   "cell_type": "code",
   "execution_count": 8,
   "id": "17314db1",
   "metadata": {},
   "outputs": [],
   "source": [
    "# Flag criteria\n",
    "ords_prods_cust.loc[ords_prods_cust['max_order'] <= 5, 'level_of_activity'] = 'Low activity customer' \n",
    "ords_prods_cust.loc[ords_prods_cust['max_order'] > 5, 'level_of_activity'] = 'High activity customer' "
   ]
  },
  {
   "cell_type": "code",
   "execution_count": 30,
   "id": "408ef5b8",
   "metadata": {},
   "outputs": [
    {
     "data": {
      "text/html": [
       "<div>\n",
       "<style scoped>\n",
       "    .dataframe tbody tr th:only-of-type {\n",
       "        vertical-align: middle;\n",
       "    }\n",
       "\n",
       "    .dataframe tbody tr th {\n",
       "        vertical-align: top;\n",
       "    }\n",
       "\n",
       "    .dataframe thead th {\n",
       "        text-align: right;\n",
       "    }\n",
       "</style>\n",
       "<table border=\"1\" class=\"dataframe\">\n",
       "  <thead>\n",
       "    <tr style=\"text-align: right;\">\n",
       "      <th></th>\n",
       "      <th>user_id</th>\n",
       "      <th>State</th>\n",
       "      <th>Age</th>\n",
       "      <th>date_joined</th>\n",
       "      <th>n_dependants</th>\n",
       "      <th>fam_status</th>\n",
       "      <th>income</th>\n",
       "      <th>product_id</th>\n",
       "      <th>product_name</th>\n",
       "      <th>department_id</th>\n",
       "      <th>...</th>\n",
       "      <th>busiest days</th>\n",
       "      <th>busiest_period_of_day</th>\n",
       "      <th>max_order</th>\n",
       "      <th>loyalty_flag</th>\n",
       "      <th>prices_mean_user</th>\n",
       "      <th>price_flag</th>\n",
       "      <th>user_median_days_since_order</th>\n",
       "      <th>mediandays_flag</th>\n",
       "      <th>Region</th>\n",
       "      <th>level_of_activity</th>\n",
       "    </tr>\n",
       "  </thead>\n",
       "  <tbody>\n",
       "    <tr>\n",
       "      <th>0</th>\n",
       "      <td>26711</td>\n",
       "      <td>Missouri</td>\n",
       "      <td>48</td>\n",
       "      <td>1/1/2017</td>\n",
       "      <td>3</td>\n",
       "      <td>married</td>\n",
       "      <td>165665</td>\n",
       "      <td>196</td>\n",
       "      <td>Soda</td>\n",
       "      <td>7</td>\n",
       "      <td>...</td>\n",
       "      <td>Busiest days</td>\n",
       "      <td>Average orders</td>\n",
       "      <td>8</td>\n",
       "      <td>New customer</td>\n",
       "      <td>8.205882</td>\n",
       "      <td>Low Spender</td>\n",
       "      <td>19.0</td>\n",
       "      <td>Frequent customer</td>\n",
       "      <td>Midwest</td>\n",
       "      <td>High activity customer</td>\n",
       "    </tr>\n",
       "    <tr>\n",
       "      <th>1</th>\n",
       "      <td>26711</td>\n",
       "      <td>Missouri</td>\n",
       "      <td>48</td>\n",
       "      <td>1/1/2017</td>\n",
       "      <td>3</td>\n",
       "      <td>married</td>\n",
       "      <td>165665</td>\n",
       "      <td>196</td>\n",
       "      <td>Soda</td>\n",
       "      <td>7</td>\n",
       "      <td>...</td>\n",
       "      <td>Regularly busy</td>\n",
       "      <td>Most orders</td>\n",
       "      <td>8</td>\n",
       "      <td>New customer</td>\n",
       "      <td>8.205882</td>\n",
       "      <td>Low Spender</td>\n",
       "      <td>19.0</td>\n",
       "      <td>Frequent customer</td>\n",
       "      <td>Midwest</td>\n",
       "      <td>High activity customer</td>\n",
       "    </tr>\n",
       "    <tr>\n",
       "      <th>2</th>\n",
       "      <td>26711</td>\n",
       "      <td>Missouri</td>\n",
       "      <td>48</td>\n",
       "      <td>1/1/2017</td>\n",
       "      <td>3</td>\n",
       "      <td>married</td>\n",
       "      <td>165665</td>\n",
       "      <td>196</td>\n",
       "      <td>Soda</td>\n",
       "      <td>7</td>\n",
       "      <td>...</td>\n",
       "      <td>Busiest days</td>\n",
       "      <td>Most orders</td>\n",
       "      <td>8</td>\n",
       "      <td>New customer</td>\n",
       "      <td>8.205882</td>\n",
       "      <td>Low Spender</td>\n",
       "      <td>19.0</td>\n",
       "      <td>Frequent customer</td>\n",
       "      <td>Midwest</td>\n",
       "      <td>High activity customer</td>\n",
       "    </tr>\n",
       "    <tr>\n",
       "      <th>3</th>\n",
       "      <td>26711</td>\n",
       "      <td>Missouri</td>\n",
       "      <td>48</td>\n",
       "      <td>1/1/2017</td>\n",
       "      <td>3</td>\n",
       "      <td>married</td>\n",
       "      <td>165665</td>\n",
       "      <td>6184</td>\n",
       "      <td>Clementines</td>\n",
       "      <td>4</td>\n",
       "      <td>...</td>\n",
       "      <td>Slowest days</td>\n",
       "      <td>Most orders</td>\n",
       "      <td>8</td>\n",
       "      <td>New customer</td>\n",
       "      <td>8.205882</td>\n",
       "      <td>Low Spender</td>\n",
       "      <td>19.0</td>\n",
       "      <td>Frequent customer</td>\n",
       "      <td>Midwest</td>\n",
       "      <td>High activity customer</td>\n",
       "    </tr>\n",
       "    <tr>\n",
       "      <th>4</th>\n",
       "      <td>26711</td>\n",
       "      <td>Missouri</td>\n",
       "      <td>48</td>\n",
       "      <td>1/1/2017</td>\n",
       "      <td>3</td>\n",
       "      <td>married</td>\n",
       "      <td>165665</td>\n",
       "      <td>6184</td>\n",
       "      <td>Clementines</td>\n",
       "      <td>4</td>\n",
       "      <td>...</td>\n",
       "      <td>Busiest days</td>\n",
       "      <td>Average orders</td>\n",
       "      <td>8</td>\n",
       "      <td>New customer</td>\n",
       "      <td>8.205882</td>\n",
       "      <td>Low Spender</td>\n",
       "      <td>19.0</td>\n",
       "      <td>Frequent customer</td>\n",
       "      <td>Midwest</td>\n",
       "      <td>High activity customer</td>\n",
       "    </tr>\n",
       "  </tbody>\n",
       "</table>\n",
       "<p>5 rows × 27 columns</p>\n",
       "</div>"
      ],
      "text/plain": [
       "   user_id     State  Age date_joined  n_dependants fam_status  income  \\\n",
       "0    26711  Missouri   48    1/1/2017             3    married  165665   \n",
       "1    26711  Missouri   48    1/1/2017             3    married  165665   \n",
       "2    26711  Missouri   48    1/1/2017             3    married  165665   \n",
       "3    26711  Missouri   48    1/1/2017             3    married  165665   \n",
       "4    26711  Missouri   48    1/1/2017             3    married  165665   \n",
       "\n",
       "   product_id product_name  department_id  ...    busiest days  \\\n",
       "0         196         Soda              7  ...    Busiest days   \n",
       "1         196         Soda              7  ...  Regularly busy   \n",
       "2         196         Soda              7  ...    Busiest days   \n",
       "3        6184  Clementines              4  ...    Slowest days   \n",
       "4        6184  Clementines              4  ...    Busiest days   \n",
       "\n",
       "   busiest_period_of_day  max_order  loyalty_flag  prices_mean_user  \\\n",
       "0         Average orders          8  New customer          8.205882   \n",
       "1            Most orders          8  New customer          8.205882   \n",
       "2            Most orders          8  New customer          8.205882   \n",
       "3            Most orders          8  New customer          8.205882   \n",
       "4         Average orders          8  New customer          8.205882   \n",
       "\n",
       "    price_flag user_median_days_since_order    mediandays_flag   Region  \\\n",
       "0  Low Spender                         19.0  Frequent customer  Midwest   \n",
       "1  Low Spender                         19.0  Frequent customer  Midwest   \n",
       "2  Low Spender                         19.0  Frequent customer  Midwest   \n",
       "3  Low Spender                         19.0  Frequent customer  Midwest   \n",
       "4  Low Spender                         19.0  Frequent customer  Midwest   \n",
       "\n",
       "        level_of_activity  \n",
       "0  High activity customer  \n",
       "1  High activity customer  \n",
       "2  High activity customer  \n",
       "3  High activity customer  \n",
       "4  High activity customer  \n",
       "\n",
       "[5 rows x 27 columns]"
      ]
     },
     "execution_count": 30,
     "metadata": {},
     "output_type": "execute_result"
    }
   ],
   "source": [
    "# looking the new column\n",
    "ords_prods_cust.head()"
   ]
  },
  {
   "cell_type": "code",
   "execution_count": 31,
   "id": "7bab2173",
   "metadata": {},
   "outputs": [
    {
     "data": {
      "text/plain": [
       "(30328763, 27)"
      ]
     },
     "execution_count": 31,
     "metadata": {},
     "output_type": "execute_result"
    }
   ],
   "source": [
    "# Checking the number of rows\n",
    "ords_prods_cust.shape"
   ]
  },
  {
   "cell_type": "code",
   "execution_count": 13,
   "id": "c67a065b",
   "metadata": {},
   "outputs": [],
   "source": [
    "# Creating 2 new dataframes, one for the low activity customers, that we can exclude.\n",
    "df_low_activity = ords_prods_cust [ords_prods_cust ['level_of_activity'] == 'Low activity customer']"
   ]
  },
  {
   "cell_type": "code",
   "execution_count": 14,
   "id": "48d6b7b6",
   "metadata": {},
   "outputs": [
    {
     "data": {
      "text/plain": [
       "(1660209, 27)"
      ]
     },
     "execution_count": 14,
     "metadata": {},
     "output_type": "execute_result"
    }
   ],
   "source": [
    "df_low_activity.shape"
   ]
  },
  {
   "cell_type": "code",
   "execution_count": 44,
   "id": "298d0509",
   "metadata": {},
   "outputs": [
    {
     "data": {
      "text/plain": [
       "5"
      ]
     },
     "execution_count": 44,
     "metadata": {},
     "output_type": "execute_result"
    }
   ],
   "source": [
    "# Checking the max value\n",
    "df_low_activity ['max_order'].max()"
   ]
  },
  {
   "cell_type": "code",
   "execution_count": 15,
   "id": "096203e5",
   "metadata": {},
   "outputs": [],
   "source": [
    "# And one for the high activity customers that we can save\n",
    "df_high_activiy = ords_prods_cust [ords_prods_cust ['level_of_activity'] == 'High activity customer']"
   ]
  },
  {
   "cell_type": "code",
   "execution_count": 16,
   "id": "9277aaf8",
   "metadata": {},
   "outputs": [
    {
     "data": {
      "text/plain": [
       "(28668554, 27)"
      ]
     },
     "execution_count": 16,
     "metadata": {},
     "output_type": "execute_result"
    }
   ],
   "source": [
    "df_high_activiy.shape"
   ]
  },
  {
   "cell_type": "code",
   "execution_count": 46,
   "id": "06514149",
   "metadata": {},
   "outputs": [
    {
     "data": {
      "text/plain": [
       "6"
      ]
     },
     "execution_count": 46,
     "metadata": {},
     "output_type": "execute_result"
    }
   ],
   "source": [
    "# Checking min value\n",
    "df_high_activiy ['max_order'].min()"
   ]
  },
  {
   "cell_type": "code",
   "execution_count": 18,
   "id": "45a9a985",
   "metadata": {},
   "outputs": [
    {
     "data": {
      "text/plain": [
       "Index(['user_id', 'State', 'Age', 'date_joined', 'n_dependants', 'fam_status',\n",
       "       'income', 'product_id', 'product_name', 'department_id', 'prices',\n",
       "       'order_id', 'order_number', 'orders_day_of_week', 'order_hour_of_day',\n",
       "       'days_since_prior_order', 'price_range_loc', 'busiest days',\n",
       "       'busiest_period_of_day', 'max_order', 'loyalty_flag',\n",
       "       'prices_mean_user', 'price_flag', 'user_median_days_since_order',\n",
       "       'mediandays_flag', 'Region', 'level_of_activity'],\n",
       "      dtype='object')"
      ]
     },
     "execution_count": 18,
     "metadata": {},
     "output_type": "execute_result"
    }
   ],
   "source": [
    "df_high_activiy.columns"
   ]
  },
  {
   "cell_type": "code",
   "execution_count": 17,
   "id": "4fc413eb",
   "metadata": {},
   "outputs": [],
   "source": [
    "# Exporting both dataframes to use:\n",
    "df_high_activiy.to_pickle (os.path.join (path, 'Prepared data', 'ords_prods_cust_high.pkl'))"
   ]
  },
  {
   "cell_type": "code",
   "execution_count": 19,
   "id": "5be4786c",
   "metadata": {},
   "outputs": [],
   "source": [
    "df_low_activity.to_pickle (os.path.join (path, 'Prepared data', 'ords_prods_cust_low.pkl'))"
   ]
  },
  {
   "cell_type": "code",
   "execution_count": null,
   "id": "87f1df42",
   "metadata": {},
   "outputs": [],
   "source": [
    "# Due to memory issues, it continues in the next cleaned notebook."
   ]
  }
 ],
 "metadata": {
  "kernelspec": {
   "display_name": "Python 3 (ipykernel)",
   "language": "python",
   "name": "python3"
  },
  "language_info": {
   "codemirror_mode": {
    "name": "ipython",
    "version": 3
   },
   "file_extension": ".py",
   "mimetype": "text/x-python",
   "name": "python",
   "nbconvert_exporter": "python",
   "pygments_lexer": "ipython3",
   "version": "3.11.3"
  }
 },
 "nbformat": 4,
 "nbformat_minor": 5
}
