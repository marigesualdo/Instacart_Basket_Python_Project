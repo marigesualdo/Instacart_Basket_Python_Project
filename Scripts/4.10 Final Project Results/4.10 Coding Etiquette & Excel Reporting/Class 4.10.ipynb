{
 "cells": [
  {
   "cell_type": "markdown",
   "id": "5161275f",
   "metadata": {},
   "source": [
    "# Crosstabs\n",
    "\n",
    "### Crosstabs are a common tool for conducting data checks in Python. Think of them as Python’s version of Excel’s pivot tables."
   ]
  },
  {
   "cell_type": "code",
   "execution_count": 17,
   "id": "755026dc",
   "metadata": {},
   "outputs": [],
   "source": [
    "# Importing libraries\n",
    "import pandas as pd\n",
    "import numpy as np\n",
    "import seaborn as sns\n",
    "import os"
   ]
  },
  {
   "cell_type": "code",
   "execution_count": 3,
   "id": "0785805d",
   "metadata": {},
   "outputs": [],
   "source": [
    "path = r'C:\\Users\\marig\\OneDrive\\Área de Trabalho\\curso arbeitsamt\\data immersion\\achievement 4\\07.2023.Instacart Basket Analysis\\Data'"
   ]
  },
  {
   "cell_type": "code",
   "execution_count": 4,
   "id": "599529e7",
   "metadata": {},
   "outputs": [],
   "source": [
    "ords_prods_cus = pd.read_pickle (os.path.join (path, 'Prepared data', 'orders_products_customer.pkl'))"
   ]
  },
  {
   "cell_type": "code",
   "execution_count": 5,
   "id": "7083885c",
   "metadata": {},
   "outputs": [
    {
     "name": "stdout",
     "output_type": "stream",
     "text": [
      "user_id                           int64\n",
      "First Name                       object\n",
      "Last name                        object\n",
      "State                            object\n",
      "Age                               int64\n",
      "date_joined                      object\n",
      "n_dependants                      int64\n",
      "fam_status                       object\n",
      "income                            int64\n",
      "product_id                        int64\n",
      "product_name                     object\n",
      "department_id                     int64\n",
      "prices                          float64\n",
      "order_id                          int64\n",
      "order_number                      int64\n",
      "orders_day_of_week                int64\n",
      "order_hour_of_day                 int64\n",
      "days_since_prior_order          float64\n",
      "price_range_loc                  object\n",
      "busiest days                     object\n",
      "busiest_period_of_day            object\n",
      "max_order                         int64\n",
      "loyalty_flag                     object\n",
      "prices_mean_user                float64\n",
      "price_flag                       object\n",
      "user_median_days_since_order    float64\n",
      "mediandays_flag                  object\n",
      "dtype: object\n"
     ]
    }
   ],
   "source": [
    "print (ords_prods_cus.dtypes)"
   ]
  },
  {
   "cell_type": "code",
   "execution_count": 18,
   "id": "59fea676",
   "metadata": {},
   "outputs": [],
   "source": [
    "crosstab_instacart = pd.crosstab(ords_prods_cus['days_since_prior_order'], ords_prods_cus['order_number'], dropna = False)"
   ]
  },
  {
   "cell_type": "code",
   "execution_count": 20,
   "id": "d6676e2f",
   "metadata": {},
   "outputs": [],
   "source": [
    "crosstab_instacart.to_clipboard()"
   ]
  },
  {
   "cell_type": "code",
   "execution_count": 25,
   "id": "fadff9a5",
   "metadata": {},
   "outputs": [
    {
     "data": {
      "text/plain": [
       "Index(['user_id', 'First Name', 'Last name', 'State', 'Age', 'date_joined',\n",
       "       'n_dependants', 'fam_status', 'income', 'product_id', 'product_name',\n",
       "       'department_id', 'prices', 'order_id', 'order_number',\n",
       "       'orders_day_of_week', 'order_hour_of_day', 'days_since_prior_order',\n",
       "       'price_range_loc', 'busiest days', 'busiest_period_of_day', 'max_order',\n",
       "       'loyalty_flag', 'prices_mean_user', 'price_flag',\n",
       "       'user_median_days_since_order', 'mediandays_flag'],\n",
       "      dtype='object')"
      ]
     },
     "execution_count": 25,
     "metadata": {},
     "output_type": "execute_result"
    }
   ],
   "source": [
    "ords_prods_cus.columns"
   ]
  },
  {
   "cell_type": "code",
   "execution_count": null,
   "id": "a4c0f8c9",
   "metadata": {},
   "outputs": [],
   "source": []
  }
 ],
 "metadata": {
  "kernelspec": {
   "display_name": "Python 3 (ipykernel)",
   "language": "python",
   "name": "python3"
  },
  "language_info": {
   "codemirror_mode": {
    "name": "ipython",
    "version": 3
   },
   "file_extension": ".py",
   "mimetype": "text/x-python",
   "name": "python",
   "nbconvert_exporter": "python",
   "pygments_lexer": "ipython3",
   "version": "3.11.3"
  }
 },
 "nbformat": 4,
 "nbformat_minor": 5
}
