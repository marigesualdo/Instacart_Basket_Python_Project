{
 "cells": [
  {
   "cell_type": "code",
   "execution_count": 1,
   "id": "376d7d6a",
   "metadata": {},
   "outputs": [],
   "source": [
    "# Importing libraries\n",
    "import pandas as pd\n",
    "import numpy as np\n",
    "import os\n",
    "import matplotlib.pyplot as plt\n",
    "import seaborn as sns\n",
    "import scipy"
   ]
  },
  {
   "cell_type": "code",
   "execution_count": 2,
   "id": "2c6dbe0b",
   "metadata": {},
   "outputs": [],
   "source": [
    "path = r'C:\\Users\\marig\\OneDrive\\Área de Trabalho\\curso arbeitsamt\\data immersion\\achievement 4\\07.2023.Instacart Basket Analysis\\Data'"
   ]
  },
  {
   "cell_type": "code",
   "execution_count": 3,
   "id": "66d50334",
   "metadata": {},
   "outputs": [],
   "source": [
    "# Loading orders products customer dataframe\n",
    "ords_prods_cust = pd.read_pickle (os.path.join (path, 'Prepared data', 'orders_products_customer.pkl'))"
   ]
  },
  {
   "cell_type": "code",
   "execution_count": 4,
   "id": "d157dcfb",
   "metadata": {},
   "outputs": [
    {
     "data": {
      "text/plain": [
       "Index(['user_id', 'First Name', 'Last name', 'State', 'Age', 'date_joined',\n",
       "       'n_dependants', 'fam_status', 'income', 'product_id', 'product_name',\n",
       "       'department_id', 'prices', 'order_id', 'order_number',\n",
       "       'orders_day_of_week', 'order_hour_of_day', 'days_since_prior_order',\n",
       "       'price_range_loc', 'busiest days', 'busiest_period_of_day', 'max_order',\n",
       "       'loyalty_flag', 'prices_mean_user', 'price_flag',\n",
       "       'user_median_days_since_order', 'mediandays_flag'],\n",
       "      dtype='object')"
      ]
     },
     "execution_count": 4,
     "metadata": {},
     "output_type": "execute_result"
    }
   ],
   "source": [
    "ords_prods_cust.columns"
   ]
  },
  {
   "cell_type": "code",
   "execution_count": 5,
   "id": "b582b104",
   "metadata": {},
   "outputs": [],
   "source": [
    "# The columns First name and Last name are PII. Because of that, I decided to dropp this columns as they can lead to privacy issues.\n",
    "\n",
    "ords_prods_cust = ords_prods_cust.drop (columns = ['First Name'])"
   ]
  },
  {
   "cell_type": "code",
   "execution_count": 6,
   "id": "5e190333",
   "metadata": {},
   "outputs": [],
   "source": [
    "ords_prods_cust = ords_prods_cust.drop (columns = ['Last name'])"
   ]
  },
  {
   "cell_type": "code",
   "execution_count": 7,
   "id": "99d2c5c1",
   "metadata": {},
   "outputs": [
    {
     "data": {
      "text/plain": [
       "(30328763, 25)"
      ]
     },
     "execution_count": 7,
     "metadata": {},
     "output_type": "execute_result"
    }
   ],
   "source": [
    "ords_prods_cust.shape"
   ]
  },
  {
   "cell_type": "code",
   "execution_count": 8,
   "id": "6cd83470",
   "metadata": {},
   "outputs": [],
   "source": [
    "# exporting the new dataframe\n",
    "ords_prods_cust.to_pickle(os.path.join(path, 'Prepared data' 'orders_products_customer_lastversion.pkl'))"
   ]
  },
  {
   "cell_type": "code",
   "execution_count": 9,
   "id": "069e6ced",
   "metadata": {},
   "outputs": [
    {
     "data": {
      "text/html": [
       "<div>\n",
       "<style scoped>\n",
       "    .dataframe tbody tr th:only-of-type {\n",
       "        vertical-align: middle;\n",
       "    }\n",
       "\n",
       "    .dataframe tbody tr th {\n",
       "        vertical-align: top;\n",
       "    }\n",
       "\n",
       "    .dataframe thead th {\n",
       "        text-align: right;\n",
       "    }\n",
       "</style>\n",
       "<table border=\"1\" class=\"dataframe\">\n",
       "  <thead>\n",
       "    <tr style=\"text-align: right;\">\n",
       "      <th></th>\n",
       "      <th>user_id</th>\n",
       "      <th>State</th>\n",
       "      <th>Age</th>\n",
       "      <th>date_joined</th>\n",
       "      <th>n_dependants</th>\n",
       "      <th>fam_status</th>\n",
       "      <th>income</th>\n",
       "      <th>product_id</th>\n",
       "      <th>product_name</th>\n",
       "      <th>department_id</th>\n",
       "      <th>...</th>\n",
       "      <th>days_since_prior_order</th>\n",
       "      <th>price_range_loc</th>\n",
       "      <th>busiest days</th>\n",
       "      <th>busiest_period_of_day</th>\n",
       "      <th>max_order</th>\n",
       "      <th>loyalty_flag</th>\n",
       "      <th>prices_mean_user</th>\n",
       "      <th>price_flag</th>\n",
       "      <th>user_median_days_since_order</th>\n",
       "      <th>mediandays_flag</th>\n",
       "    </tr>\n",
       "  </thead>\n",
       "  <tbody>\n",
       "    <tr>\n",
       "      <th>0</th>\n",
       "      <td>26711</td>\n",
       "      <td>Missouri</td>\n",
       "      <td>48</td>\n",
       "      <td>1/1/2017</td>\n",
       "      <td>3</td>\n",
       "      <td>married</td>\n",
       "      <td>165665</td>\n",
       "      <td>196</td>\n",
       "      <td>Soda</td>\n",
       "      <td>7</td>\n",
       "      <td>...</td>\n",
       "      <td>30.0</td>\n",
       "      <td>Mid range product</td>\n",
       "      <td>Busiest days</td>\n",
       "      <td>Average orders</td>\n",
       "      <td>8</td>\n",
       "      <td>New customer</td>\n",
       "      <td>8.205882</td>\n",
       "      <td>Low Spender</td>\n",
       "      <td>19.0</td>\n",
       "      <td>Frequent customer</td>\n",
       "    </tr>\n",
       "    <tr>\n",
       "      <th>1</th>\n",
       "      <td>26711</td>\n",
       "      <td>Missouri</td>\n",
       "      <td>48</td>\n",
       "      <td>1/1/2017</td>\n",
       "      <td>3</td>\n",
       "      <td>married</td>\n",
       "      <td>165665</td>\n",
       "      <td>196</td>\n",
       "      <td>Soda</td>\n",
       "      <td>7</td>\n",
       "      <td>...</td>\n",
       "      <td>11.0</td>\n",
       "      <td>Mid range product</td>\n",
       "      <td>Regularly busy</td>\n",
       "      <td>Most orders</td>\n",
       "      <td>8</td>\n",
       "      <td>New customer</td>\n",
       "      <td>8.205882</td>\n",
       "      <td>Low Spender</td>\n",
       "      <td>19.0</td>\n",
       "      <td>Frequent customer</td>\n",
       "    </tr>\n",
       "    <tr>\n",
       "      <th>2</th>\n",
       "      <td>26711</td>\n",
       "      <td>Missouri</td>\n",
       "      <td>48</td>\n",
       "      <td>1/1/2017</td>\n",
       "      <td>3</td>\n",
       "      <td>married</td>\n",
       "      <td>165665</td>\n",
       "      <td>196</td>\n",
       "      <td>Soda</td>\n",
       "      <td>7</td>\n",
       "      <td>...</td>\n",
       "      <td>10.0</td>\n",
       "      <td>Mid range product</td>\n",
       "      <td>Busiest days</td>\n",
       "      <td>Most orders</td>\n",
       "      <td>8</td>\n",
       "      <td>New customer</td>\n",
       "      <td>8.205882</td>\n",
       "      <td>Low Spender</td>\n",
       "      <td>19.0</td>\n",
       "      <td>Frequent customer</td>\n",
       "    </tr>\n",
       "    <tr>\n",
       "      <th>3</th>\n",
       "      <td>26711</td>\n",
       "      <td>Missouri</td>\n",
       "      <td>48</td>\n",
       "      <td>1/1/2017</td>\n",
       "      <td>3</td>\n",
       "      <td>married</td>\n",
       "      <td>165665</td>\n",
       "      <td>6184</td>\n",
       "      <td>Clementines</td>\n",
       "      <td>4</td>\n",
       "      <td>...</td>\n",
       "      <td>30.0</td>\n",
       "      <td>Low range product</td>\n",
       "      <td>Slowest days</td>\n",
       "      <td>Most orders</td>\n",
       "      <td>8</td>\n",
       "      <td>New customer</td>\n",
       "      <td>8.205882</td>\n",
       "      <td>Low Spender</td>\n",
       "      <td>19.0</td>\n",
       "      <td>Frequent customer</td>\n",
       "    </tr>\n",
       "    <tr>\n",
       "      <th>4</th>\n",
       "      <td>26711</td>\n",
       "      <td>Missouri</td>\n",
       "      <td>48</td>\n",
       "      <td>1/1/2017</td>\n",
       "      <td>3</td>\n",
       "      <td>married</td>\n",
       "      <td>165665</td>\n",
       "      <td>6184</td>\n",
       "      <td>Clementines</td>\n",
       "      <td>4</td>\n",
       "      <td>...</td>\n",
       "      <td>19.0</td>\n",
       "      <td>Low range product</td>\n",
       "      <td>Busiest days</td>\n",
       "      <td>Average orders</td>\n",
       "      <td>8</td>\n",
       "      <td>New customer</td>\n",
       "      <td>8.205882</td>\n",
       "      <td>Low Spender</td>\n",
       "      <td>19.0</td>\n",
       "      <td>Frequent customer</td>\n",
       "    </tr>\n",
       "  </tbody>\n",
       "</table>\n",
       "<p>5 rows × 25 columns</p>\n",
       "</div>"
      ],
      "text/plain": [
       "   user_id     State  Age date_joined  n_dependants fam_status  income  \\\n",
       "0    26711  Missouri   48    1/1/2017             3    married  165665   \n",
       "1    26711  Missouri   48    1/1/2017             3    married  165665   \n",
       "2    26711  Missouri   48    1/1/2017             3    married  165665   \n",
       "3    26711  Missouri   48    1/1/2017             3    married  165665   \n",
       "4    26711  Missouri   48    1/1/2017             3    married  165665   \n",
       "\n",
       "   product_id product_name  department_id  ...  days_since_prior_order  \\\n",
       "0         196         Soda              7  ...                    30.0   \n",
       "1         196         Soda              7  ...                    11.0   \n",
       "2         196         Soda              7  ...                    10.0   \n",
       "3        6184  Clementines              4  ...                    30.0   \n",
       "4        6184  Clementines              4  ...                    19.0   \n",
       "\n",
       "     price_range_loc    busiest days  busiest_period_of_day  max_order  \\\n",
       "0  Mid range product    Busiest days         Average orders          8   \n",
       "1  Mid range product  Regularly busy            Most orders          8   \n",
       "2  Mid range product    Busiest days            Most orders          8   \n",
       "3  Low range product    Slowest days            Most orders          8   \n",
       "4  Low range product    Busiest days         Average orders          8   \n",
       "\n",
       "   loyalty_flag prices_mean_user   price_flag user_median_days_since_order  \\\n",
       "0  New customer         8.205882  Low Spender                         19.0   \n",
       "1  New customer         8.205882  Low Spender                         19.0   \n",
       "2  New customer         8.205882  Low Spender                         19.0   \n",
       "3  New customer         8.205882  Low Spender                         19.0   \n",
       "4  New customer         8.205882  Low Spender                         19.0   \n",
       "\n",
       "     mediandays_flag  \n",
       "0  Frequent customer  \n",
       "1  Frequent customer  \n",
       "2  Frequent customer  \n",
       "3  Frequent customer  \n",
       "4  Frequent customer  \n",
       "\n",
       "[5 rows x 25 columns]"
      ]
     },
     "execution_count": 9,
     "metadata": {},
     "output_type": "execute_result"
    }
   ],
   "source": [
    "ords_prods_cust.head()"
   ]
  },
  {
   "cell_type": "code",
   "execution_count": null,
   "id": "d496aba9",
   "metadata": {},
   "outputs": [],
   "source": []
  }
 ],
 "metadata": {
  "kernelspec": {
   "display_name": "Python 3 (ipykernel)",
   "language": "python",
   "name": "python3"
  },
  "language_info": {
   "codemirror_mode": {
    "name": "ipython",
    "version": 3
   },
   "file_extension": ".py",
   "mimetype": "text/x-python",
   "name": "python",
   "nbconvert_exporter": "python",
   "pygments_lexer": "ipython3",
   "version": "3.11.3"
  }
 },
 "nbformat": 4,
 "nbformat_minor": 5
}
