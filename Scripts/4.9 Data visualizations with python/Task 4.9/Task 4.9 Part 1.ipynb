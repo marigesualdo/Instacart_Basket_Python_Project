{
 "cells": [
  {
   "cell_type": "code",
   "execution_count": 1,
   "id": "2010c55c",
   "metadata": {},
   "outputs": [],
   "source": [
    "#Importing libraries\n",
    "\n",
    "import pandas as pd\n",
    "import numpy as np\n",
    "import os"
   ]
  },
  {
   "cell_type": "code",
   "execution_count": 2,
   "id": "1b71d949",
   "metadata": {},
   "outputs": [],
   "source": [
    "path = r'C:\\Users\\marig\\OneDrive\\Área de Trabalho\\curso arbeitsamt\\data immersion\\achievement 4\\07.2023.Instacart Basket Analysis\\Data\\Prepared data'"
   ]
  },
  {
   "cell_type": "code",
   "execution_count": 3,
   "id": "60bf0699",
   "metadata": {},
   "outputs": [],
   "source": [
    "#Loading consumer dataframe\n",
    "customer_df = pd.read_pickle (os.path.join (path, 'consumer_checked.pkl'))\n"
   ]
  },
  {
   "cell_type": "code",
   "execution_count": 7,
   "id": "7b86bcc3",
   "metadata": {},
   "outputs": [],
   "source": [
    "#Loading orders_products_last_version\n",
    "ords_prods_merge = pd.read_pickle (os.path.join (path, 'orders_products_last_version.pkl'))"
   ]
  },
  {
   "cell_type": "raw",
   "id": "c723c1e8",
   "metadata": {},
   "source": [
    "ords_prods_merge.shape"
   ]
  },
  {
   "cell_type": "code",
   "execution_count": 8,
   "id": "de529113",
   "metadata": {},
   "outputs": [
    {
     "name": "stdout",
     "output_type": "stream",
     "text": [
      "product_id                        int64\n",
      "product_name                     object\n",
      "department_id                     int64\n",
      "prices                          float64\n",
      "order_id                          int64\n",
      "user_id                           int64\n",
      "order_number                      int64\n",
      "orders_day_of_week                int64\n",
      "order_hour_of_day                 int64\n",
      "days_since_prior_order          float64\n",
      "price_range_loc                  object\n",
      "busiest days                     object\n",
      "busiest_period_of_day            object\n",
      "max_order                         int64\n",
      "loyalty_flag                     object\n",
      "prices_mean_user                float64\n",
      "price_flag                       object\n",
      "user_median_days_since_order    float64\n",
      "mediandays_flag                  object\n",
      "dtype: object\n"
     ]
    }
   ],
   "source": [
    "print (ords_prods_merge.dtypes)"
   ]
  },
  {
   "cell_type": "code",
   "execution_count": 4,
   "id": "7c6ad374",
   "metadata": {},
   "outputs": [
    {
     "data": {
      "text/plain": [
       "(206209, 9)"
      ]
     },
     "execution_count": 4,
     "metadata": {},
     "output_type": "execute_result"
    }
   ],
   "source": [
    "customer_df.shape"
   ]
  },
  {
   "cell_type": "code",
   "execution_count": 5,
   "id": "f49877f3",
   "metadata": {},
   "outputs": [
    {
     "data": {
      "text/html": [
       "<div>\n",
       "<style scoped>\n",
       "    .dataframe tbody tr th:only-of-type {\n",
       "        vertical-align: middle;\n",
       "    }\n",
       "\n",
       "    .dataframe tbody tr th {\n",
       "        vertical-align: top;\n",
       "    }\n",
       "\n",
       "    .dataframe thead th {\n",
       "        text-align: right;\n",
       "    }\n",
       "</style>\n",
       "<table border=\"1\" class=\"dataframe\">\n",
       "  <thead>\n",
       "    <tr style=\"text-align: right;\">\n",
       "      <th></th>\n",
       "      <th>user_id</th>\n",
       "      <th>First Name</th>\n",
       "      <th>Last name</th>\n",
       "      <th>State</th>\n",
       "      <th>Age</th>\n",
       "      <th>date_joined</th>\n",
       "      <th>n_dependants</th>\n",
       "      <th>fam_status</th>\n",
       "      <th>income</th>\n",
       "    </tr>\n",
       "  </thead>\n",
       "  <tbody>\n",
       "    <tr>\n",
       "      <th>0</th>\n",
       "      <td>26711</td>\n",
       "      <td>Deborah</td>\n",
       "      <td>Esquivel</td>\n",
       "      <td>Missouri</td>\n",
       "      <td>48</td>\n",
       "      <td>1/1/2017</td>\n",
       "      <td>3</td>\n",
       "      <td>married</td>\n",
       "      <td>165665</td>\n",
       "    </tr>\n",
       "    <tr>\n",
       "      <th>1</th>\n",
       "      <td>33890</td>\n",
       "      <td>Patricia</td>\n",
       "      <td>Hart</td>\n",
       "      <td>New Mexico</td>\n",
       "      <td>36</td>\n",
       "      <td>1/1/2017</td>\n",
       "      <td>0</td>\n",
       "      <td>single</td>\n",
       "      <td>59285</td>\n",
       "    </tr>\n",
       "    <tr>\n",
       "      <th>2</th>\n",
       "      <td>65803</td>\n",
       "      <td>Kenneth</td>\n",
       "      <td>Farley</td>\n",
       "      <td>Idaho</td>\n",
       "      <td>35</td>\n",
       "      <td>1/1/2017</td>\n",
       "      <td>2</td>\n",
       "      <td>married</td>\n",
       "      <td>99568</td>\n",
       "    </tr>\n",
       "    <tr>\n",
       "      <th>3</th>\n",
       "      <td>125935</td>\n",
       "      <td>Michelle</td>\n",
       "      <td>Hicks</td>\n",
       "      <td>Iowa</td>\n",
       "      <td>40</td>\n",
       "      <td>1/1/2017</td>\n",
       "      <td>0</td>\n",
       "      <td>single</td>\n",
       "      <td>42049</td>\n",
       "    </tr>\n",
       "    <tr>\n",
       "      <th>4</th>\n",
       "      <td>130797</td>\n",
       "      <td>Ann</td>\n",
       "      <td>Gilmore</td>\n",
       "      <td>Maryland</td>\n",
       "      <td>26</td>\n",
       "      <td>1/1/2017</td>\n",
       "      <td>1</td>\n",
       "      <td>married</td>\n",
       "      <td>40374</td>\n",
       "    </tr>\n",
       "  </tbody>\n",
       "</table>\n",
       "</div>"
      ],
      "text/plain": [
       "   user_id First Name Last name       State  Age date_joined  n_dependants  \\\n",
       "0    26711    Deborah  Esquivel    Missouri   48    1/1/2017             3   \n",
       "1    33890   Patricia      Hart  New Mexico   36    1/1/2017             0   \n",
       "2    65803    Kenneth    Farley       Idaho   35    1/1/2017             2   \n",
       "3   125935   Michelle     Hicks        Iowa   40    1/1/2017             0   \n",
       "4   130797        Ann   Gilmore    Maryland   26    1/1/2017             1   \n",
       "\n",
       "  fam_status  income  \n",
       "0    married  165665  \n",
       "1     single   59285  \n",
       "2    married   99568  \n",
       "3     single   42049  \n",
       "4    married   40374  "
      ]
     },
     "execution_count": 5,
     "metadata": {},
     "output_type": "execute_result"
    }
   ],
   "source": [
    "customer_df.head()"
   ]
  },
  {
   "cell_type": "code",
   "execution_count": 9,
   "id": "9abc419d",
   "metadata": {},
   "outputs": [],
   "source": [
    "# Joining the dataframes\n",
    "df_merged_large = customer_df.merge(ords_prods_merge, on = 'user_id')"
   ]
  },
  {
   "cell_type": "code",
   "execution_count": 10,
   "id": "493967db",
   "metadata": {},
   "outputs": [
    {
     "data": {
      "text/plain": [
       "(30328763, 27)"
      ]
     },
     "execution_count": 10,
     "metadata": {},
     "output_type": "execute_result"
    }
   ],
   "source": [
    "df_merged_large.shape"
   ]
  },
  {
   "cell_type": "code",
   "execution_count": 11,
   "id": "52a50a61",
   "metadata": {},
   "outputs": [
    {
     "name": "stdout",
     "output_type": "stream",
     "text": [
      "user_id                           int64\n",
      "First Name                       object\n",
      "Last name                        object\n",
      "State                            object\n",
      "Age                               int64\n",
      "date_joined                      object\n",
      "n_dependants                      int64\n",
      "fam_status                       object\n",
      "income                            int64\n",
      "product_id                        int64\n",
      "product_name                     object\n",
      "department_id                     int64\n",
      "prices                          float64\n",
      "order_id                          int64\n",
      "order_number                      int64\n",
      "orders_day_of_week                int64\n",
      "order_hour_of_day                 int64\n",
      "days_since_prior_order          float64\n",
      "price_range_loc                  object\n",
      "busiest days                     object\n",
      "busiest_period_of_day            object\n",
      "max_order                         int64\n",
      "loyalty_flag                     object\n",
      "prices_mean_user                float64\n",
      "price_flag                       object\n",
      "user_median_days_since_order    float64\n",
      "mediandays_flag                  object\n",
      "dtype: object\n"
     ]
    }
   ],
   "source": [
    "print (df_merged_large.dtypes)"
   ]
  },
  {
   "cell_type": "code",
   "execution_count": 12,
   "id": "2d921cd0",
   "metadata": {},
   "outputs": [],
   "source": [
    "#exporting\n",
    "df_merged_large.to_pickle(os.path.join(path, 'Prepared data' 'orders_products_customer.pkl'))"
   ]
  },
  {
   "cell_type": "code",
   "execution_count": null,
   "id": "24a78bf5",
   "metadata": {},
   "outputs": [],
   "source": []
  }
 ],
 "metadata": {
  "kernelspec": {
   "display_name": "Python 3 (ipykernel)",
   "language": "python",
   "name": "python3"
  },
  "language_info": {
   "codemirror_mode": {
    "name": "ipython",
    "version": 3
   },
   "file_extension": ".py",
   "mimetype": "text/x-python",
   "name": "python",
   "nbconvert_exporter": "python",
   "pygments_lexer": "ipython3",
   "version": "3.11.3"
  }
 },
 "nbformat": 4,
 "nbformat_minor": 5
}
